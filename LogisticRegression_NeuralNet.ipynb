{
 "metadata": {
  "language_info": {
   "codemirror_mode": {
    "name": "ipython",
    "version": 3
   },
   "file_extension": ".py",
   "mimetype": "text/x-python",
   "name": "python",
   "nbconvert_exporter": "python",
   "pygments_lexer": "ipython3",
   "version": "3.8.5"
  },
  "orig_nbformat": 2,
  "kernelspec": {
   "name": "pythondata",
   "display_name": "Python 3.8.5 64-bit ('base': conda)"
  }
 },
 "nbformat": 4,
 "nbformat_minor": 2,
 "cells": [
  {
   "cell_type": "code",
   "execution_count": 1,
   "metadata": {},
   "outputs": [
    {
     "output_type": "execute_result",
     "data": {
      "text/plain": [
       "   Pregnancies  Glucose  BloodPressure  SkinThickness  Insulin   BMI  \\\n",
       "0            6      148             72             35        0  33.6   \n",
       "1            1       85             66             29        0  26.6   \n",
       "2            8      183             64              0        0  23.3   \n",
       "3            1       89             66             23       94  28.1   \n",
       "4            0      137             40             35      168  43.1   \n",
       "\n",
       "   DiabetesPedigreeFunction  Age  Outcome  \n",
       "0                     0.627   50        1  \n",
       "1                     0.351   31        0  \n",
       "2                     0.672   32        1  \n",
       "3                     0.167   21        0  \n",
       "4                     2.288   33        1  "
      ],
      "text/html": "<div>\n<style scoped>\n    .dataframe tbody tr th:only-of-type {\n        vertical-align: middle;\n    }\n\n    .dataframe tbody tr th {\n        vertical-align: top;\n    }\n\n    .dataframe thead th {\n        text-align: right;\n    }\n</style>\n<table border=\"1\" class=\"dataframe\">\n  <thead>\n    <tr style=\"text-align: right;\">\n      <th></th>\n      <th>Pregnancies</th>\n      <th>Glucose</th>\n      <th>BloodPressure</th>\n      <th>SkinThickness</th>\n      <th>Insulin</th>\n      <th>BMI</th>\n      <th>DiabetesPedigreeFunction</th>\n      <th>Age</th>\n      <th>Outcome</th>\n    </tr>\n  </thead>\n  <tbody>\n    <tr>\n      <th>0</th>\n      <td>6</td>\n      <td>148</td>\n      <td>72</td>\n      <td>35</td>\n      <td>0</td>\n      <td>33.6</td>\n      <td>0.627</td>\n      <td>50</td>\n      <td>1</td>\n    </tr>\n    <tr>\n      <th>1</th>\n      <td>1</td>\n      <td>85</td>\n      <td>66</td>\n      <td>29</td>\n      <td>0</td>\n      <td>26.6</td>\n      <td>0.351</td>\n      <td>31</td>\n      <td>0</td>\n    </tr>\n    <tr>\n      <th>2</th>\n      <td>8</td>\n      <td>183</td>\n      <td>64</td>\n      <td>0</td>\n      <td>0</td>\n      <td>23.3</td>\n      <td>0.672</td>\n      <td>32</td>\n      <td>1</td>\n    </tr>\n    <tr>\n      <th>3</th>\n      <td>1</td>\n      <td>89</td>\n      <td>66</td>\n      <td>23</td>\n      <td>94</td>\n      <td>28.1</td>\n      <td>0.167</td>\n      <td>21</td>\n      <td>0</td>\n    </tr>\n    <tr>\n      <th>4</th>\n      <td>0</td>\n      <td>137</td>\n      <td>40</td>\n      <td>35</td>\n      <td>168</td>\n      <td>43.1</td>\n      <td>2.288</td>\n      <td>33</td>\n      <td>1</td>\n    </tr>\n  </tbody>\n</table>\n</div>"
     },
     "metadata": {},
     "execution_count": 1
    }
   ],
   "source": [
    "# Import our dependencies\n",
    "from sklearn.model_selection import train_test_split\n",
    "from sklearn.preprocessing import StandardScaler\n",
    "from sklearn.linear_model import LogisticRegression\n",
    "from sklearn.metrics import accuracy_score\n",
    "import pandas as pd\n",
    "import tensorflow as tf\n",
    "\n",
    "# Import our input dataset\n",
    "diabetes_df = pd.read_csv('diabetes.csv')\n",
    "diabetes_df.head()"
   ]
  },
  {
   "cell_type": "code",
   "execution_count": 2,
   "metadata": {},
   "outputs": [],
   "source": [
    "# Remove diabetes outcome target from features data\n",
    "y = diabetes_df.Outcome\n",
    "X = diabetes_df.drop(columns=\"Outcome\")\n",
    "\n",
    "# Split training/test datasets\n",
    "X_train, X_test, y_train, y_test = train_test_split(X, y, random_state=42, stratify=y)"
   ]
  },
  {
   "cell_type": "code",
   "execution_count": 3,
   "metadata": {},
   "outputs": [],
   "source": [
    "# Preprocess numerical data for neural network\n",
    "\n",
    "# Create a StandardScaler instance\n",
    "scaler = StandardScaler()\n",
    "\n",
    "# Fit the StandardScaler\n",
    "X_scaler = scaler.fit(X_train)\n",
    "\n",
    "# Scale the data\n",
    "X_train_scaled = X_scaler.transform(X_train)\n",
    "X_test_scaled = X_scaler.transform(X_test)"
   ]
  },
  {
   "cell_type": "code",
   "execution_count": 4,
   "metadata": {},
   "outputs": [
    {
     "output_type": "stream",
     "name": "stdout",
     "text": [
      " Logistic regression model accuracy: 0.729\n"
     ]
    }
   ],
   "source": [
    "# Define the logistic regression model\n",
    "log_classifier = LogisticRegression(solver=\"lbfgs\",max_iter=200)\n",
    "\n",
    "# Train the model\n",
    "log_classifier.fit(X_train,y_train)\n",
    "\n",
    "# Evaluate the model\n",
    "y_pred = log_classifier.predict(X_test)\n",
    "print(f\" Logistic regression model accuracy: {accuracy_score(y_test,y_pred):.3f}\")"
   ]
  },
  {
   "cell_type": "code",
   "execution_count": 5,
   "metadata": {},
   "outputs": [
    {
     "output_type": "stream",
     "name": "stdout",
     "text": [
      "Epoch 1/50\n",
      "18/18 [==============================] - 0s 901us/step - loss: 0.8022 - accuracy: 0.4108\n",
      "Epoch 2/50\n",
      "18/18 [==============================] - 0s 1ms/step - loss: 0.7457 - accuracy: 0.4885\n",
      "Epoch 3/50\n",
      "18/18 [==============================] - 0s 1ms/step - loss: 0.7320 - accuracy: 0.5077\n",
      "Epoch 4/50\n",
      "18/18 [==============================] - 0s 1ms/step - loss: 0.6791 - accuracy: 0.6154\n",
      "Epoch 5/50\n",
      "18/18 [==============================] - 0s 924us/step - loss: 0.6605 - accuracy: 0.6383\n",
      "Epoch 6/50\n",
      "18/18 [==============================] - 0s 952us/step - loss: 0.6023 - accuracy: 0.7015\n",
      "Epoch 7/50\n",
      "18/18 [==============================] - 0s 957us/step - loss: 0.5963 - accuracy: 0.6809\n",
      "Epoch 8/50\n",
      "18/18 [==============================] - 0s 964us/step - loss: 0.5840 - accuracy: 0.6809\n",
      "Epoch 9/50\n",
      "18/18 [==============================] - 0s 962us/step - loss: 0.5677 - accuracy: 0.7077\n",
      "Epoch 10/50\n",
      "18/18 [==============================] - 0s 1ms/step - loss: 0.5423 - accuracy: 0.7209\n",
      "Epoch 11/50\n",
      "18/18 [==============================] - 0s 977us/step - loss: 0.5222 - accuracy: 0.7512\n",
      "Epoch 12/50\n",
      "18/18 [==============================] - 0s 963us/step - loss: 0.5120 - accuracy: 0.7452\n",
      "Epoch 13/50\n",
      "18/18 [==============================] - 0s 995us/step - loss: 0.5118 - accuracy: 0.7324\n",
      "Epoch 14/50\n",
      "18/18 [==============================] - 0s 973us/step - loss: 0.4945 - accuracy: 0.7413\n",
      "Epoch 15/50\n",
      "18/18 [==============================] - 0s 1ms/step - loss: 0.5292 - accuracy: 0.7334\n",
      "Epoch 16/50\n",
      "18/18 [==============================] - 0s 1ms/step - loss: 0.5108 - accuracy: 0.7312\n",
      "Epoch 17/50\n",
      "18/18 [==============================] - 0s 1ms/step - loss: 0.4916 - accuracy: 0.7474\n",
      "Epoch 18/50\n",
      "18/18 [==============================] - 0s 994us/step - loss: 0.4749 - accuracy: 0.7595\n",
      "Epoch 19/50\n",
      "18/18 [==============================] - 0s 943us/step - loss: 0.4883 - accuracy: 0.7296\n",
      "Epoch 20/50\n",
      "18/18 [==============================] - 0s 960us/step - loss: 0.4847 - accuracy: 0.7586\n",
      "Epoch 21/50\n",
      "18/18 [==============================] - 0s 1ms/step - loss: 0.4764 - accuracy: 0.7757\n",
      "Epoch 22/50\n",
      "18/18 [==============================] - 0s 954us/step - loss: 0.4499 - accuracy: 0.7803\n",
      "Epoch 23/50\n",
      "18/18 [==============================] - 0s 949us/step - loss: 0.4625 - accuracy: 0.7674\n",
      "Epoch 24/50\n",
      "18/18 [==============================] - 0s 939us/step - loss: 0.4758 - accuracy: 0.7665\n",
      "Epoch 25/50\n",
      "18/18 [==============================] - 0s 1ms/step - loss: 0.4859 - accuracy: 0.7528\n",
      "Epoch 26/50\n",
      "18/18 [==============================] - 0s 1ms/step - loss: 0.4536 - accuracy: 0.7741\n",
      "Epoch 27/50\n",
      "18/18 [==============================] - 0s 1ms/step - loss: 0.4687 - accuracy: 0.7830\n",
      "Epoch 28/50\n",
      "18/18 [==============================] - 0s 1ms/step - loss: 0.4344 - accuracy: 0.8058\n",
      "Epoch 29/50\n",
      "18/18 [==============================] - 0s 1ms/step - loss: 0.4609 - accuracy: 0.7792\n",
      "Epoch 30/50\n",
      "18/18 [==============================] - 0s 1ms/step - loss: 0.4694 - accuracy: 0.7617\n",
      "Epoch 31/50\n",
      "18/18 [==============================] - 0s 1ms/step - loss: 0.4583 - accuracy: 0.7973\n",
      "Epoch 32/50\n",
      "18/18 [==============================] - 0s 1ms/step - loss: 0.4495 - accuracy: 0.7957\n",
      "Epoch 33/50\n",
      "18/18 [==============================] - 0s 1ms/step - loss: 0.4532 - accuracy: 0.7736\n",
      "Epoch 34/50\n",
      "18/18 [==============================] - 0s 1ms/step - loss: 0.4070 - accuracy: 0.8205\n",
      "Epoch 35/50\n",
      "18/18 [==============================] - 0s 994us/step - loss: 0.4680 - accuracy: 0.7771\n",
      "Epoch 36/50\n",
      "18/18 [==============================] - 0s 1ms/step - loss: 0.4416 - accuracy: 0.7885\n",
      "Epoch 37/50\n",
      "18/18 [==============================] - 0s 1ms/step - loss: 0.4476 - accuracy: 0.7976\n",
      "Epoch 38/50\n",
      "18/18 [==============================] - 0s 1ms/step - loss: 0.4541 - accuracy: 0.7830\n",
      "Epoch 39/50\n",
      "18/18 [==============================] - 0s 1ms/step - loss: 0.4813 - accuracy: 0.7803\n",
      "Epoch 40/50\n",
      "18/18 [==============================] - 0s 979us/step - loss: 0.4264 - accuracy: 0.8160\n",
      "Epoch 41/50\n",
      "18/18 [==============================] - 0s 995us/step - loss: 0.4426 - accuracy: 0.8029\n",
      "Epoch 42/50\n",
      "18/18 [==============================] - 0s 994us/step - loss: 0.4390 - accuracy: 0.7849\n",
      "Epoch 43/50\n",
      "18/18 [==============================] - 0s 953us/step - loss: 0.4417 - accuracy: 0.7989\n",
      "Epoch 44/50\n",
      "18/18 [==============================] - 0s 915us/step - loss: 0.4227 - accuracy: 0.8234\n",
      "Epoch 45/50\n",
      "18/18 [==============================] - 0s 1ms/step - loss: 0.4171 - accuracy: 0.8115\n",
      "Epoch 46/50\n",
      "18/18 [==============================] - 0s 1ms/step - loss: 0.4601 - accuracy: 0.7835\n",
      "Epoch 47/50\n",
      "18/18 [==============================] - 0s 2ms/step - loss: 0.4232 - accuracy: 0.8023\n",
      "Epoch 48/50\n",
      "18/18 [==============================] - 0s 1ms/step - loss: 0.4361 - accuracy: 0.8103\n",
      "Epoch 49/50\n",
      "18/18 [==============================] - 0s 1ms/step - loss: 0.4116 - accuracy: 0.8130\n",
      "Epoch 50/50\n",
      "18/18 [==============================] - 0s 1ms/step - loss: 0.4214 - accuracy: 0.8027\n",
      "6/6 - 0s - loss: 0.4830 - accuracy: 0.7552\n",
      "Loss: 0.48300638794898987, Accuracy: 0.7552083134651184\n"
     ]
    }
   ],
   "source": [
    "# Define the basic neural network model\n",
    "nn_model = tf.keras.models.Sequential()\n",
    "nn_model.add(tf.keras.layers.Dense(units=16, activation=\"relu\", input_dim=8))\n",
    "nn_model.add(tf.keras.layers.Dense(units=1, activation=\"sigmoid\"))\n",
    "\n",
    "# Compile the Sequential model together and customize metrics\n",
    "nn_model.compile(loss=\"binary_crossentropy\", optimizer=\"adam\", metrics=[\"accuracy\"])\n",
    "\n",
    "# Train the model\n",
    "fit_model = nn_model.fit(X_train_scaled, y_train, epochs=50)\n",
    "\n",
    "# Evaluate the model using the test data\n",
    "model_loss, model_accuracy = nn_model.evaluate(X_test_scaled,y_test,verbose=2)\n",
    "print(f\"Loss: {model_loss}, Accuracy: {model_accuracy}\")"
   ]
  },
  {
   "cell_type": "code",
   "execution_count": null,
   "metadata": {},
   "outputs": [],
   "source": []
  }
 ]
}